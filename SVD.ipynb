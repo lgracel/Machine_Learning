{
 "cells": [
  {
   "cell_type": "code",
   "execution_count": 5,
   "metadata": {},
   "outputs": [
    {
     "name": "stdout",
     "output_type": "stream",
     "text": [
      "Original:\n",
      "[[1 0 0 0 2]\n",
      " [0 0 3 0 0]\n",
      " [0 0 0 0 0]\n",
      " [0 2 0 0 0]]\n",
      "Reconstructed:\n",
      "[[1. 0. 0. 0. 2.]\n",
      " [0. 0. 3. 0. 0.]\n",
      " [0. 0. 0. 0. 0.]\n",
      " [0. 2. 0. 0. 0.]]\n"
     ]
    }
   ],
   "source": [
    "import numpy as np\n",
    "from scipy.linalg import svd\n",
    "\n",
    "# define a matrix\n",
    "A = np.array([[1, 0, 0, 0, 2], \n",
    "           [0, 0, 3, 0, 0], \n",
    "           [0, 0, 0, 0, 0],\n",
    "           [0, 2, 0, 0, 0]])\n",
    "print(\"Original:\")\n",
    "print(A)\n",
    "\n",
    "# SVD\n",
    "U, E, Vt = svd(A)\n",
    "D = np.zeros((A.shape[0], A.shape[1]))\n",
    "D[:A.shape[1], :A.shape[0]] = np.diag(E)\n",
    "UDVt = U.dot(D).dot(Vt)\n",
    "\n",
    "print(\"Reconstructed:\")\n",
    "print(UDVt)"
   ]
  },
  {
   "cell_type": "code",
   "execution_count": null,
   "metadata": {},
   "outputs": [],
   "source": []
  }
 ],
 "metadata": {
  "kernelspec": {
   "display_name": "Python 3",
   "language": "python",
   "name": "python3"
  },
  "language_info": {
   "codemirror_mode": {
    "name": "ipython",
    "version": 3
   },
   "file_extension": ".py",
   "mimetype": "text/x-python",
   "name": "python",
   "nbconvert_exporter": "python",
   "pygments_lexer": "ipython3",
   "version": "3.6.5"
  }
 },
 "nbformat": 4,
 "nbformat_minor": 2
}
