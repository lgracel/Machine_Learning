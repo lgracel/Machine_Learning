{
 "cells": [
  {
   "cell_type": "code",
   "execution_count": 126,
   "metadata": {},
   "outputs": [],
   "source": [
    "# Mukhanov Almaz\n",
    "import numpy as np\n",
    "import math as m\n",
    "import matplotlib.pyplot as plt"
   ]
  },
  {
   "cell_type": "code",
   "execution_count": 116,
   "metadata": {},
   "outputs": [],
   "source": [
    "x = np.array([10, 15, 7, 12, 14])\n",
    "y = np.array([100, 200, 80, 120, 150])"
   ]
  },
  {
   "cell_type": "code",
   "execution_count": 117,
   "metadata": {},
   "outputs": [
    {
     "name": "stdout",
     "output_type": "stream",
     "text": [
      "11.6 130.0 1620.0 142.8 18660.0 8.240000000000009 1760.0 112.0\n"
     ]
    }
   ],
   "source": [
    "xyav = (x * y).sum() / x.size\n",
    "\n",
    "xav = x.sum() / x.size\n",
    "yav = y.sum() / y.size\n",
    "\n",
    "xsqav = (x**2).sum() / x.size\n",
    "ysqav = (y**2).sum() / y.size\n",
    "\n",
    "vx = xsqav - xav**2\n",
    "vy = ysqav - yav**2\n",
    "\n",
    "cov = xyav - xav * yav\n",
    "\n",
    "print(xav, yav, xyav, xsqav, ysqav, vx, vy, cov)"
   ]
  },
  {
   "cell_type": "code",
   "execution_count": 118,
   "metadata": {},
   "outputs": [
    {
     "name": "stdout",
     "output_type": "stream",
     "text": [
      "13.592233009708723 -27.669902912621183\n",
      "[108.25242718 176.21359223  67.47572816 135.4368932  162.62135922]\n"
     ]
    }
   ],
   "source": [
    "a = cov / vx\n",
    "b = yav - a * xav\n",
    "\n",
    "yt = a * x + b\n",
    "\n",
    "print(a, b)\n",
    "print(yt)"
   ]
  },
  {
   "cell_type": "code",
   "execution_count": 119,
   "metadata": {},
   "outputs": [
    {
     "name": "stdout",
     "output_type": "stream",
     "text": [
      "0.9300324093471203 7611.650485436874 8800.0 0.8649602824360084\n"
     ]
    }
   ],
   "source": [
    "r = cov / (m.sqrt(vx * vy))\n",
    "\n",
    "ssr = ((yt - yav)**2).sum()\n",
    "sst = ((y - yav)**2).sum()\n",
    "\n",
    "rsq = ssr / sst\n",
    "\n",
    "print(r, ssr, sst, rsq)"
   ]
  },
  {
   "cell_type": "code",
   "execution_count": 123,
   "metadata": {},
   "outputs": [
    {
     "data": {
      "image/png": "[encoded data removed]",
      "text/plain": [
       "<Figure size 432x288 with 1 Axes>"
      ]
     },
     "metadata": {},
     "output_type": "display_data"
    }
   ],
   "source": [
    "plt.scatter(x, y, color = 'b')\n",
    "plt.plot(x, yt, color = 'r', label = 'Regression line')\n",
    "plt.xlabel('X') \n",
    "plt.ylabel('Y') \n",
    "plt.legend(loc = 'upper left')\n",
    "plt.title('Linear Regression Model')\n",
    "plt.show()"
   ]
  },
  {
   "cell_type": "code",
   "execution_count": null,
   "metadata": {},
   "outputs": [],
   "source": []
  }
 ],
 "metadata": {
  "kernelspec": {
   "display_name": "Python 3",
   "language": "python",
   "name": "python3"
  },
  "language_info": {
   "codemirror_mode": {
    "name": "ipython",
    "version": 3
   },
   "file_extension": ".py",
   "mimetype": "text/x-python",
   "name": "python",
   "nbconvert_exporter": "python",
   "pygments_lexer": "ipython3",
   "version": "3.6.5"
  }
 },
 "nbformat": 4,
 "nbformat_minor": 2
}
