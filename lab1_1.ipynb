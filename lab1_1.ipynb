{
 "cells": [
  {
   "cell_type": "code",
   "execution_count": 15,
   "metadata": {},
   "outputs": [
    {
     "name": "stdout",
     "output_type": "stream",
     "text": [
      "4 6 "
     ]
    }
   ],
   "source": [
    "import re\n",
    "import numpy as np\n",
    "import scipy.spatial\n",
    "\n",
    "text = []\n",
    "\n",
    "for line in open('sentences.txt'):\n",
    "    text.append(line.strip())\n",
    "\n",
    "text_low = [x.lower() for x in text]\n",
    "\n",
    "tokens = []\n",
    "\n",
    "for line in text_low:\n",
    "    new_line = []\n",
    "    for word in re.split('[^a-z]', line):\n",
    "        if word != '':\n",
    "            new_line.append(word)\n",
    "    tokens.append(new_line)\n",
    "\n",
    "all_words = []\n",
    "\n",
    "for line in tokens:\n",
    "    for word in line:\n",
    "        if word not in all_words:\n",
    "            all_words.append(word)\n",
    "\n",
    "len(all_words)\n",
    "\n",
    "words_dict = dict(zip(range(0, len(all_words)), all_words))\n",
    "\n",
    "words_matrix = np.zeros((len(text_low), len(words_dict)))\n",
    "\n",
    "for ind in range(0, len(words_dict)):\n",
    "    word = words_dict[ind]\n",
    "    line_n = 0\n",
    "    for line in tokens:\n",
    "        words_matrix[line_n, ind] = line.count(word)\n",
    "        line_n += 1\n",
    "\n",
    "np.amax(words_matrix)\n",
    "\n",
    "zero_line = words_matrix[0, ]\n",
    "\n",
    "distances = []\n",
    "\n",
    "for row in words_matrix[1:, ]:\n",
    "    distances.append(scipy.spatial.distance.cosine(zero_line, row))\n",
    "\n",
    "for d in distances:\n",
    "    if d in sorted(distances)[0:2]:\n",
    "        print(distances.index(d)+1, end=' ')"
   ]
  },
  {
   "cell_type": "code",
   "execution_count": null,
   "metadata": {},
   "outputs": [],
   "source": []
  }
 ],
 "metadata": {
  "kernelspec": {
   "display_name": "Python 3",
   "language": "python",
   "name": "python3"
  },
  "language_info": {
   "codemirror_mode": {
    "name": "ipython",
    "version": 3
   },
   "file_extension": ".py",
   "mimetype": "text/x-python",
   "name": "python",
   "nbconvert_exporter": "python",
   "pygments_lexer": "ipython3",
   "version": "3.6.5"
  }
 },
 "nbformat": 4,
 "nbformat_minor": 2
}
